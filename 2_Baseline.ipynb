{
  "nbformat": 4,
  "nbformat_minor": 0,
  "metadata": {
    "colab": {
      "provenance": [],
      "collapsed_sections": [],
      "include_colab_link": true
    },
    "kernelspec": {
      "display_name": "Python 3",
      "name": "python3"
    },
    "language_info": {
      "name": "python"
    }
  },
  "cells": [
    {
      "cell_type": "markdown",
      "metadata": {
        "id": "view-in-github",
        "colab_type": "text"
      },
      "source": [
        "<a href=\"https://colab.research.google.com/github/ar851060/ESUN_AI_2021_winter/blob/main/2_Baseline.ipynb\" target=\"_parent\"><img src=\"https://colab.research.google.com/assets/colab-badge.svg\" alt=\"Open In Colab\"/></a>"
      ]
    },
    {
      "cell_type": "code",
      "metadata": {
        "id": "bzEUNvqNmW-S"
      },
      "source": [
        "import pandas as pd\n",
        "import numpy as np\n",
        "import matplotlib.pyplot as plt\n",
        "import seaborn as sns"
      ],
      "execution_count": null,
      "outputs": []
    },
    {
      "cell_type": "code",
      "metadata": {
        "id": "7uCjgaklppkz"
      },
      "source": [
        "coll = dict()\n",
        "pred = [2,6,10,12,13,15,18,19,21,22,25,26,36,37,39,48]\n",
        "cust = pd.read_csv(\"/content/drive/Shareddrives/統學期末比賽/Data/target.csv\")['chid'].copy()\n",
        "for i in range(6,25):\n",
        "  df = pd.read_csv(\"/content/drive/Shareddrives/統學期末比賽/Data/date_\"+str(i)+\".csv\")\n",
        "  base = df.iloc[:,2:6].drop(['txn_cnt'],axis = 1)\n",
        "  base = base[base['shop_tag'] != 'other']\n",
        "  # base = base.loc[base['chid'].isin(cust)]\n",
        "  base.sort_values(['chid','txn_amt'],ascending=[1,0],inplace=True)\n",
        "  grouped = base.groupby(['chid']).head(3)\n",
        "  for j in range(grouped.shape[0]):\n",
        "    if int(grouped.iloc[j,1]) in pred:\n",
        "      coll.setdefault(grouped.iloc[j,0], []).append(int(grouped.iloc[j,1]))\n",
        "del df\n",
        "del base"
      ],
      "execution_count": null,
      "outputs": []
    },
    {
      "cell_type": "code",
      "metadata": {
        "id": "2BRgSlsKGb0N"
      },
      "source": [
        "cust = pd.read_csv(\"/content/drive/Shareddrives/統學期末比賽/Data/target.csv\")['chid'].copy()"
      ],
      "execution_count": null,
      "outputs": []
    },
    {
      "cell_type": "code",
      "metadata": {
        "id": "Wdf0GaU71r1U"
      },
      "source": [
        "base_ans = dict()\n",
        "k = coll.keys()\n",
        "for i in k:\n",
        "  cand = coll[i]\n",
        "  for j in range(3):\n",
        "    set(cand)\n",
        "    if not cand: break\n",
        "    freq = max(set(cand),key = cand.count)\n",
        "    base_ans.setdefault(i, []).append(int(freq))\n",
        "    cand = [x for x in cand if x != freq]"
      ],
      "execution_count": null,
      "outputs": []
    },
    {
      "cell_type": "code",
      "metadata": {
        "id": "lMQ4PL2ax3v-"
      },
      "source": [
        "tot = []\n",
        "for i in base_ans.values():\n",
        "  tot.append(i)\n",
        "fre = pd.Series(tot).value_counts()"
      ],
      "execution_count": null,
      "outputs": []
    },
    {
      "cell_type": "code",
      "metadata": {
        "id": "l2WoR99m40YM"
      },
      "source": [
        "comp_3 = []\n",
        "for i in fre.index:\n",
        "  if len(i)>2:\n",
        "    comp_3.append(i)\n",
        "comp = pd.DataFrame(comp_3)"
      ],
      "execution_count": null,
      "outputs": []
    },
    {
      "cell_type": "markdown",
      "metadata": {
        "id": "3OyUwpkF1Hes"
      },
      "source": [
        "1799個沒有資訊的客人"
      ]
    },
    {
      "cell_type": "code",
      "metadata": {
        "id": "Q_qFg5v3JXDq"
      },
      "source": [
        "only_future = set(cust) - set(coll.keys())\n",
        "for j in only_future:\n",
        "  base_ans.setdefault(j, [])"
      ],
      "execution_count": null,
      "outputs": []
    },
    {
      "cell_type": "code",
      "metadata": {
        "id": "azloDp5W4_pZ"
      },
      "source": [
        "for idx, val in base_ans.items():\n",
        "  if len(val)==1:\n",
        "    base_ans[idx] = comp.loc[comp[0]==val[0]].head(1).values.tolist()[0]\n",
        "  elif len(val) == 2:\n",
        "    base_ans[idx] = comp.loc[(comp[0]==val[0]) & (comp[1] == val[1])].head(1).values.tolist()[0]\n",
        "  elif len(val) == 0:\n",
        "    base_ans[idx] = comp.head(1).values.tolist()[0]"
      ],
      "execution_count": null,
      "outputs": []
    },
    {
      "cell_type": "code",
      "metadata": {
        "id": "GcEf0UjF8L6m"
      },
      "source": [
        "ans_df = pd.DataFrame.from_dict(base_ans)\n",
        "tans = ans_df.T\n",
        "tans.reset_index(inplace = True)\n",
        "tans = tans.rename(columns = {\"index\":\"chid\",0:\"top1\",1:\"top2\",2:\"top3\"})"
      ],
      "execution_count": null,
      "outputs": []
    },
    {
      "cell_type": "code",
      "metadata": {
        "id": "4p3XP4HqKiQh"
      },
      "source": [
        "tans.to_csv(\"/content/drive/Shareddrives/統學期末比賽/Data/base_answer.csv\", index = False)"
      ],
      "execution_count": null,
      "outputs": []
    }
  ]
}