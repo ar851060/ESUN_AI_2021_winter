{
  "nbformat": 4,
  "nbformat_minor": 0,
  "metadata": {
    "colab": {
      "provenance": [],
      "collapsed_sections": [],
      "mount_file_id": "13ondQeTVPHK3o7kSriKi6QZqPnyx8_-7",
      "authorship_tag": "ABX9TyNRr9WY0p8Vg7b10JUosKMs",
      "include_colab_link": true
    },
    "kernelspec": {
      "name": "python3",
      "display_name": "Python 3"
    },
    "language_info": {
      "name": "python"
    }
  },
  "cells": [
    {
      "cell_type": "markdown",
      "metadata": {
        "id": "view-in-github",
        "colab_type": "text"
      },
      "source": [
        "<a href=\"https://colab.research.google.com/github/ar851060/ESUN_AI_2021_winter/blob/main/9_Output.ipynb\" target=\"_parent\"><img src=\"https://colab.research.google.com/assets/colab-badge.svg\" alt=\"Open In Colab\"/></a>"
      ]
    },
    {
      "cell_type": "code",
      "source": [
        "from google.colab import drive\n",
        "drive.mount('/content/drive')"
      ],
      "metadata": {
        "colab": {
          "base_uri": "https://localhost:8080/"
        },
        "id": "_qjULpw-f4Pl",
        "outputId": "fc803afb-c049-4305-80c5-1044227c466e"
      },
      "execution_count": null,
      "outputs": [
        {
          "output_type": "stream",
          "name": "stdout",
          "text": [
            "Drive already mounted at /content/drive; to attempt to forcibly remount, call drive.mount(\"/content/drive\", force_remount=True).\n"
          ]
        }
      ]
    },
    {
      "cell_type": "code",
      "source": [
        "import pandas as pd\n",
        "import numpy as np"
      ],
      "metadata": {
        "id": "5AunuSjOe5s9"
      },
      "execution_count": null,
      "outputs": []
    },
    {
      "cell_type": "code",
      "source": [
        "pd.read_csv(\"/content/drive/Shareddrives/統學期末比賽/Output/Ans/RF_total.csv\").dtypes"
      ],
      "metadata": {
        "id": "DC2J3qkQiSj0",
        "outputId": "e0226036-a60f-4075-8a90-9fdd2ed5135c",
        "colab": {
          "base_uri": "https://localhost:8080/"
        }
      },
      "execution_count": null,
      "outputs": [
        {
          "output_type": "execute_result",
          "data": {
            "text/plain": [
              "chid    int64\n",
              "top1    int64\n",
              "top2    int64\n",
              "top3    int64\n",
              "dtype: object"
            ]
          },
          "metadata": {},
          "execution_count": 7
        }
      ]
    },
    {
      "cell_type": "code",
      "source": [
        "models = [\"RF\"]\n",
        "for name in models:\n",
        "  df = pd.read_csv(\"/content/drive/Shareddrives/統學期末比賽/train_test/10/test_tag_10_base.csv\")\n",
        "  pred = map(str, [2,6,10,12,13,15,18,19,21,22,25,26,36,37,39,48])\n",
        "  for tag in pred:\n",
        "    print(tag)\n",
        "    try:\n",
        "      data = pd.read_csv(\"/content/drive/Shareddrives/統學期末比賽/Output/Result/\"+name+\"/\"+name+\"_\"+tag+\"_total.csv\").prediction.str.extract(pat = '\\[(.+?)\\]').astype(float)\n",
        "    except:\n",
        "      data = pd.read_csv(\"/content/drive/Shareddrives/統學期末比賽/Output/Result/\"+name+\"/\"+name+\"_\"+tag+\"_total.csv\").prediction\n",
        "    df[tag] = data\n",
        "  id = df.chid\n",
        "  df = df.drop([\"chid\",\"shop_tag\"], axis = 1)\n",
        "  df = pd.DataFrame(df.columns.values[np.argsort(-df.values, axis=1)[:, :3]], \n",
        "                  index=df.index,\n",
        "                  columns = ['top1','top2','top3']).reset_index()\n",
        "  df = df.drop(\"index\", axis = 1)\n",
        "  df['chid'] = id\n",
        "  df[[\"chid\",\"top1\",\"top2\",\"top3\"]].apply(pd.to_numeric).to_csv(\"/content/drive/Shareddrives/統學期末比賽/Output/Ans/\"+name+\"_total.csv\", index = False)\n",
        "  "
      ],
      "metadata": {
        "id": "KhsoonpnfOms",
        "colab": {
          "base_uri": "https://localhost:8080/"
        },
        "outputId": "c557cde2-b7ca-4849-b1b5-d2d78985a575"
      },
      "execution_count": null,
      "outputs": [
        {
          "output_type": "stream",
          "name": "stdout",
          "text": [
            "2\n",
            "6\n",
            "10\n",
            "12\n",
            "13\n",
            "15\n",
            "18\n",
            "19\n",
            "21\n",
            "22\n",
            "25\n",
            "26\n",
            "36\n",
            "37\n",
            "39\n",
            "48\n"
          ]
        }
      ]
    }
  ]
}