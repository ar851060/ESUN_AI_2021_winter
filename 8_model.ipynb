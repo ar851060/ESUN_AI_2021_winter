{
  "cells": [
    {
      "cell_type": "markdown",
      "metadata": {
        "id": "view-in-github",
        "colab_type": "text"
      },
      "source": [
        "<a href=\"https://colab.research.google.com/github/ar851060/ESUN_AI_2021_winter/blob/main/8_model.ipynb\" target=\"_parent\"><img src=\"https://colab.research.google.com/assets/colab-badge.svg\" alt=\"Open In Colab\"/></a>"
      ]
    },
    {
      "cell_type": "code",
      "execution_count": null,
      "metadata": {
        "id": "ZEoiqn13sOsm"
      },
      "outputs": [],
      "source": [
        "import pandas as pd\n",
        "import numpy as np\n",
        "from sklearn.ensemble import RandomForestRegressor, StackingRegressor, AdaBoostRegressor, VotingRegressor\n",
        "from sklearn.tree import DecisionTreeRegressor\n",
        "from sklearn.cross_decomposition import PLSRegression\n",
        "from xgboost import XGBRegressor\n",
        "from sklearn.linear_model import LassoCV, LinearRegression, ElasticNetCV\n",
        "from sklearn.model_selection import ParameterGrid, cross_val_score\n",
        "from sklearn.metrics import mean_squared_error\n",
        "import pickle\n",
        "import timeit\n",
        "import pathlib"
      ]
    },
    {
      "cell_type": "code",
      "execution_count": null,
      "metadata": {
        "id": "pO0d5n9ViRCN"
      },
      "outputs": [],
      "source": [
        "seed = 20211225\n",
        "models = {\n",
        "    # \"PLS\": PLSRegression(copy = False),\n",
        "    # \"Linear\": LinearRegression(copy_X = False, n_jobs = -1),\n",
        "    # \"Lasso\": LassoCV(selection = \"random\", n_jobs = -1, random_state = seed),\n",
        "    # \"Net\": ElasticNetCV(selection = \"random\", n_jobs = -1, random_state = seed),\n",
        "    # \"Bag\": RandomForestRegressor(n_jobs = -1, max_features = None, random_state = seed, verbose = 2),\n",
        "    \"RF\": RandomForestRegressor(n_jobs = -1, max_features = \"sqrt\", random_state = seed, max_samples = 0.5, n_estimators=100, max_depth = None),\n",
        "}\n",
        "# models = {\"XGB\": XGBRegressor(tree_method = \"gpu_hist\", n_jobs = -1, random_state = seed)}"
      ]
    },
    {
      "cell_type": "code",
      "execution_count": null,
      "metadata": {
        "id": "UXrEL9VjlpzT"
      },
      "outputs": [],
      "source": [
        "# params = {\"XGB\": {\"n_estimators\":[100,500,1000], \"learning_rate\":[0.01,0.001], \"max_depth\":[3,5]}}\n",
        "params = {\"PLS\": {\"n_components\":[5,8,11]},\n",
        "      \"Bag\": {\"n_estimators\":[500,800], \"max_depth\":[3,5]},\n",
        "      \"RF\": {\"n_estimators\":[500], \"max_depth\":[None]}}"
      ]
    },
    {
      "cell_type": "code",
      "execution_count": null,
      "metadata": {
        "id": "sSSJHrQ2GMdP"
      },
      "outputs": [],
      "source": [
        "# 調參\n",
        "def tuning(tag, name, params=params, models=models):\n",
        "  best_score = -999\n",
        "  best_param = None\n",
        "  param = list(ParameterGrid(params[name]))\n",
        "  scores = []\n",
        "  for p in param:\n",
        "    model = models[name].set_params(**p)\n",
        "    trainx = pd.read_csv(\"/content/drive/Shareddrives/統學期末比賽/train_test/\"+tag+\"/trainx_\"+tag+\"_rank.csv\").fillna(0)\n",
        "    trainx = trainx[trainx['dt']<23]\n",
        "    trainy = pd.read_csv(\"/content/drive/Shareddrives/統學期末比賽/train_test/\"+tag+\"/trainy_\"+tag+\"_rank.csv\")\n",
        "    temp = cross_val_score(model, trainx, trainy, scoring = \"neg_mean_squared_error\", verbose = 3)\n",
        "    del model\n",
        "    temp = np.mean(temp)\n",
        "    if temp > best_score:\n",
        "      best_score = temp\n",
        "      best_param = p\n",
        "    p[\"score\"] = temp\n",
        "    scores.append(p)\n",
        "  print(\"best parameters are:\")\n",
        "  print(best_param)\n",
        "  print(\"best score:\")\n",
        "  print(temp)\n",
        "  pd.DataFrame(scores).to_csv(\"/content/drive/Shareddrives/統學期末比賽/Output/tuning_score/\"+name+\"_\"+tag+\"_total.csv\")\n",
        "  return best_param\n"
      ]
    },
    {
      "cell_type": "code",
      "execution_count": null,
      "metadata": {
        "id": "QA9b1X-o_AY2"
      },
      "outputs": [],
      "source": [
        "# 訓練模型\n",
        "def training(tag, name, best_param, models = models):\n",
        "  trainx = pd.read_csv(\"/content/drive/Shareddrives/統學期末比賽/train_test/\"+tag+\"/trainx_\"+tag+\"_rank.csv\").drop([\"chid\",\"shop_tag\"], axis = 1).fillna(0)\n",
        "  trainx = trainx[trainx['dt']<23]\n",
        "  trainy = pd.read_csv(\"/content/drive/Shareddrives/統學期末比賽/train_test/\"+tag+\"/trainy_\"+tag+\"_rank.csv\")\n",
        "  trainy = trainy.iloc[trainx.index]\n",
        "  if best_param is None:\n",
        "    model = models[name]\n",
        "  else:\n",
        "    best_param.pop(\"score\")\n",
        "    model = models[name].set_params(**best_param)\n",
        "  start = timeit.default_timer()\n",
        "  model.fit(trainx, trainy)\n",
        "  stop = timeit.default_timer()\n",
        "  del trainx\n",
        "  del trainy\n",
        "  valx = pd.read_csv(\"/content/drive/Shareddrives/統學期末比賽/train_test/\"+tag+\"/valx_\"+tag+\"_rank.csv\").drop([\"shop_tag\"], axis = 1).fillna(0)\n",
        "  valx = valx[valx['txn_amt']>0]\n",
        "  valy = pd.read_csv(\"/content/drive/Shareddrives/統學期末比賽/train_test/\"+tag+\"/valy_\"+tag+\"_rank.csv\")\n",
        "  valy = valy.iloc[valx.index]\n",
        "  print(\"predict validation...\")\n",
        "  pre = model.predict(valx)\n",
        "  # test_tag = pd.read_csv(\"/content/drive/Shareddrives/統學期末比賽/train_test/\"+tag+\"/test_tag_\"+tag+\"_base.csv\")\n",
        "  # test_tag = test_tag[test_tag['shop_tag']==tag].drop(\"shop_tag\",axis = 1)\n",
        "  # pre = list(pre)\n",
        "  # test_tag[\"prediction\"] = pre\n",
        "  # path = pathlib.Path(\"/content/drive/Shareddrives/統學期末比賽/Output/val_score/\"+name)\n",
        "  # path.mkdir(parents=True, exist_ok=True)\n",
        "  # test_tag.to_csv(\"/content/drive/Shareddrives/統學期末比賽/Output/val_score/\"+name+\"/\"+name+\"_\"+tag+\"_t.csv\")\n",
        "  sc = mean_squared_error(valy, pre)\n",
        "  print(\"validation score is\")\n",
        "  print(sc)\n",
        "  pd.DataFrame([name, sc, stop - start], index = [\"models\", \"score\", \"time\"]).T.to_csv(\"/content/drive/Shareddrives/統學期末比賽/Output/validation_score/\"+name+\"_\"+tag+\"_total.csv\")\n",
        "  cols = valx.columns\n",
        "  del valx\n",
        "  del valy\n",
        "  # print(\"importance...\")\n",
        "  # pd.DataFrame(model.feature_importances_, index = cols).to_csv(\"/content/drive/Shareddrives/統學期末比賽/Output/importance/\"+name+\"_\"+tag+\"_correct.csv\")"
      ]
    },
    {
      "cell_type": "code",
      "execution_count": null,
      "metadata": {
        "id": "h7rLyZ3xJIOW"
      },
      "outputs": [],
      "source": [
        "def predict_output(tag, name, best_param, models = models):\n",
        "  print(\"refit...\")\n",
        "  trainx = pd.read_csv(\"/content/drive/Shareddrives/統學期末比賽/train_test/\"+tag+\"/trainx_\"+tag+\"_rank.csv\").drop([\"chid\",\"shop_tag\"], axis = 1).fillna(0)\n",
        "  trainx = trainx[trainx['dt']<23]\n",
        "  trainy = pd.read_csv(\"/content/drive/Shareddrives/統學期末比賽/train_test/\"+tag+\"/trainy_\"+tag+\"_rank.csv\")\n",
        "  trainy = trainy.iloc[trainx.index]\n",
        "  if best_param is None:\n",
        "    model = models[name]\n",
        "  else:\n",
        "    model = models[name].set_params(**best_param)\n",
        "  model.fit(trainx, trainy)\n",
        "  del trainx\n",
        "  del trainy\n",
        "  print(\"predict...\")\n",
        "  testx = pd.read_csv(\"/content/drive/Shareddrives/統學期末比賽/train_test/\"+tag+\"/testx_\"+tag+\"_rank.csv\").drop([\"shop_tag\"], axis = 1).fillna(0)\n",
        "  test_tag = pd.read_csv(\"/content/drive/Shareddrives/統學期末比賽/train_test/\"+tag+\"/test_tag_\"+tag+\"_rank.csv\")\n",
        "  test_tag = test_tag[test_tag['shop_tag']==tag].drop(\"shop_tag\",axis = 1)\n",
        "  pre = list(model.predict(testx))\n",
        "  test_tag[\"prediction\"] = pre\n",
        "  path = pathlib.Path(\"/content/drive/Shareddrives/統學期末比賽/Output/Result/\"+name)\n",
        "  path.mkdir(parents=True, exist_ok=True)\n",
        "  test_tag.to_csv(\"/content/drive/Shareddrives/統學期末比賽/Output/Result/\"+name+\"/\"+name+\"_\"+tag+\"_total.csv\")\n",
        "  del model"
      ]
    },
    {
      "cell_type": "code",
      "execution_count": null,
      "metadata": {
        "colab": {
          "base_uri": "https://localhost:8080/"
        },
        "id": "vgKHdJ3fijwp",
        "outputId": "6c75fa8a-d523-45b6-cfd0-69efc2e9eda4"
      },
      "outputs": [
        {
          "output_type": "stream",
          "name": "stdout",
          "text": [
            "Drive already mounted at /content/drive; to attempt to forcibly remount, call drive.mount(\"/content/drive\", force_remount=True).\n"
          ]
        }
      ],
      "source": [
        "from google.colab import drive\n",
        "drive.mount('/content/drive')"
      ]
    },
    {
      "cell_type": "code",
      "execution_count": null,
      "metadata": {
        "id": "2GKYzCLzoOWw",
        "colab": {
          "base_uri": "https://localhost:8080/"
        },
        "outputId": "f2366d0d-94e4-4a0c-ee4e-c5487be72da7"
      },
      "outputs": [
        {
          "output_type": "stream",
          "name": "stdout",
          "text": [
            "RF starts\n",
            "training model...\n"
          ]
        },
        {
          "output_type": "stream",
          "name": "stderr",
          "text": [
            "/usr/local/lib/python3.7/dist-packages/ipykernel_launcher.py:13: DataConversionWarning: A column-vector y was passed when a 1d array was expected. Please change the shape of y to (n_samples,), for example using ravel().\n",
            "  del sys.path[0]\n"
          ]
        },
        {
          "output_type": "stream",
          "name": "stdout",
          "text": [
            "predict validation...\n",
            "validation score is\n",
            "13.796493311103363\n",
            "predict test...\n",
            "refit...\n"
          ]
        },
        {
          "output_type": "stream",
          "name": "stderr",
          "text": [
            "/usr/local/lib/python3.7/dist-packages/ipykernel_launcher.py:11: DataConversionWarning: A column-vector y was passed when a 1d array was expected. Please change the shape of y to (n_samples,), for example using ravel().\n",
            "  # This is added back by InteractiveShellApp.init_path()\n"
          ]
        },
        {
          "output_type": "stream",
          "name": "stdout",
          "text": [
            "predict...\n",
            "saving model...\n",
            "success in RF at 37\n",
            "RF all done!!\n"
          ]
        }
      ],
      "source": [
        "linlist = [\"Linear\",\"Lasso\",\"Net\"]\n",
        "for name in models.keys():\n",
        "  print(name+\" starts\")\n",
        "  # pred = map(str, [2,6,10,12,13,15,18,19,21,22,25,26,36,39,48])\n",
        "  pred = [\"37\"]\n",
        "  # pred = [\"39\",\"48\"]\n",
        "  for tag in pred:\n",
        "    # print(\"tuning parameters...\")\n",
        "    # if not name in linlist:\n",
        "    #   param = tuning(tag,name)\n",
        "    # else:\n",
        "    #   param = None\n",
        "    param = None\n",
        "    # train and validation\n",
        "    print(\"training model...\")\n",
        "    training(tag, name, param)\n",
        "\n",
        "    # test\n",
        "    print(\"predict test...\")\n",
        "    # model = predict_output(tag, name, param)\n",
        "    model = predict_output(tag, name, param)\n",
        "    # save model\n",
        "    print(\"saving model...\")\n",
        "    _ = pickle.dump(model, open(\"/content/drive/Shareddrives/統學期末比賽/Output/model/\"+name+\"_\"+tag+\"_total.sav\",'wb'))\n",
        "    del model\n",
        "    print('success in '+name+\" at \"+tag)\n",
        "  print(name+\" all done!!\")\n",
        "\n",
        "\n",
        "# Lasso index\n",
        "# Linear columns    \n",
        "\n"
      ]
    }
  ],
  "metadata": {
    "colab": {
      "collapsed_sections": [],
      "provenance": [],
      "include_colab_link": true
    },
    "kernelspec": {
      "display_name": "Python 3",
      "name": "python3"
    },
    "language_info": {
      "name": "python"
    }
  },
  "nbformat": 4,
  "nbformat_minor": 0
}