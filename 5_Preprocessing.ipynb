{
  "cells": [
    {
      "cell_type": "markdown",
      "metadata": {
        "id": "view-in-github",
        "colab_type": "text"
      },
      "source": [
        "<a href=\"https://colab.research.google.com/github/ar851060/ESUN_AI_2021_winter/blob/main/5_Preprocessing.ipynb\" target=\"_parent\"><img src=\"https://colab.research.google.com/assets/colab-badge.svg\" alt=\"Open In Colab\"/></a>"
      ]
    },
    {
      "cell_type": "code",
      "execution_count": null,
      "metadata": {
        "id": "aDaBS_eznS06"
      },
      "outputs": [],
      "source": [
        "import pandas as pd\n",
        "import matplotlib.pyplot as plt\n",
        "import numpy as np\n",
        "import os\n",
        "import pathlib"
      ]
    },
    {
      "cell_type": "code",
      "execution_count": null,
      "metadata": {
        "id": "f4GxhQo9xGJv"
      },
      "outputs": [],
      "source": [
        "def generate_sample(tag, amt):\n",
        "  comb = []\n",
        "  amt = amt[amt['shop_tag']==tag]\n",
        "  for i in range(12,25):\n",
        "    data = pd.read_csv(\"/content/drive/Shareddrives/統學期末比賽/Clear_data_1214/data_\"+str(i)+\".csv\")\n",
        "    data = data[data['shop_tag']==tag]\n",
        "    # 丟掉slam、gender_code、primary_card\n",
        "    data = data.drop(['Unnamed: 0','poscd','overseas_offline_cnt','overseas_offline_amt_pct','slam', 'primary_card', 'masts', 'naty','cuorg'], axis=1)\n",
        "\n",
        "    # 合併txn_cnt, 只留1,2,4,6\n",
        "    others = [\"card_\"+str(x)+\"_txn_cnt\" for x in [3,5,7,8,9,10,11,12,13,14,\"other\"]]\n",
        "    data['card_others_txn_cnt'] = data[others].sum(axis=1)\n",
        "    data.drop(others, axis=1, inplace = True)\n",
        "\n",
        "    others = [\"card_\"+str(x)+\"_txn_amt_pct\" for x in range(1,15)]\n",
        "    # data['card_others_txn_amt_pct'] = data[others].sum(axis=1)\n",
        "    data.drop(others, axis=1, inplace = True)\n",
        "    data.drop(\"card_other_txn_amt_pct\", axis = 1, inplace = True)\n",
        "\n",
        "    comb.append(data)\n",
        "  data = pd.concat(comb)\n",
        "  data = data.drop([\"txn_amt\",\"shop_tag\"], axis = 1)\n",
        "  amt = amt.drop(\"shop_tag\", axis = 1)\n",
        "  data = data.merge(amt,how=\"left\",on=[\"dt\",\"chid\"])\n",
        "  return data"
      ]
    },
    {
      "cell_type": "code",
      "execution_count": null,
      "metadata": {
        "id": "enm5vVcCy6SQ"
      },
      "outputs": [],
      "source": [
        "# 類別資料encoding\n",
        "def encoding(data):\n",
        "  # data.naty = data.naty.map({1:1,2:0})\n",
        "  # data_dum = pd.get_dummies(data.masts, prefix=\"masts\")\n",
        "  # data = data.drop(['masts'],axis = 1)\n",
        "  # data = pd.concat([data, data_dum], axis = 1)\n",
        "  # del data_dum\n",
        "  df_frequency_map = data.trdtp.value_counts().to_dict()\n",
        "  data.trdtp = data.trdtp.map(df_frequency_map)\n",
        "  # df_frequency_map = data.cuorg.value_counts().to_dict()\n",
        "  # data.cuorg = data.cuorg.map(df_frequency_map)\n",
        "  del df_frequency_map\n",
        "  return data"
      ]
    },
    {
      "cell_type": "code",
      "execution_count": null,
      "metadata": {
        "id": "bhyOqcMnpLXZ"
      },
      "outputs": [],
      "source": [
        "# 產生下個月的目標\n",
        "def generate_target(data):\n",
        "  data['last_dt'] = data['dt']-1\n",
        "  comb = []\n",
        "  for i in range(12,25):\n",
        "    now = data[data['dt']==i]\n",
        "    fut = data[data['dt']==i+1][[\"last_dt\",\"chid\",\"shop_tag\",\"txn_amt\"]]\n",
        "    now = pd.merge(now, fut, how = \"left\", left_on = [\"dt\",\"chid\",\"shop_tag\"], right_on = [\"last_dt\",\"chid\",\"shop_tag\"]).fillna(0)\n",
        "    comb.append(now)\n",
        "  data = pd.concat(comb)\n",
        "  del now\n",
        "  del fut\n",
        "  data = data.drop([\"last_dt_x\",\"last_dt_y\"],axis = 1)\n",
        "  data.columns = data.columns.str.replace('txn_amt_y', 'next_txn_amt')\n",
        "  data.columns = data.columns.str.replace('txn_amt_x', 'txn_amt')\n",
        "  return data"
      ]
    },
    {
      "cell_type": "code",
      "execution_count": null,
      "metadata": {
        "id": "ubHFaQ6wNurj"
      },
      "outputs": [],
      "source": [
        "# 增加 count\n",
        "def generate_count(data, tag):\n",
        "  cou = pd.read_csv(\"/content/drive/Shareddrives/統學期末比賽/feature/count_before.csv\")\n",
        "  cou = cou[cou['shop_tag']==int(tag)].drop(\"shop_tag\",axis = 1)\n",
        "  cou = pd.melt(cou, id_vars = \"chid\").astype(int)\n",
        "  cou.columns = [\"chid\", \"dt\", \"count\"]\n",
        "  data = data.merge(cou, how = \"left\", on = [\"chid\", \"dt\"]).fillna(0)\n",
        "  del cou\n",
        "  return data"
      ]
    },
    {
      "cell_type": "code",
      "source": [
        "# 增加 total\n",
        "def generate_total(data, tag):\n",
        "  cou = pd.read_csv(\"/content/drive/Shareddrives/統學期末比賽/feature/total_before.csv\")\n",
        "  cou = cou[cou['shop_tag']==int(tag)].drop(\"shop_tag\",axis = 1)\n",
        "  cou = pd.melt(cou, id_vars = \"chid\").astype(float)\n",
        "  cou.columns = [\"chid\", \"dt\", \"total\"]\n",
        "  data = data.merge(cou, how = \"left\", on = [\"chid\", \"dt\"]).fillna(0)\n",
        "  del cou\n",
        "  return data"
      ],
      "metadata": {
        "id": "K4yW3QJnUVyM"
      },
      "execution_count": null,
      "outputs": []
    },
    {
      "cell_type": "code",
      "execution_count": null,
      "metadata": {
        "id": "bHC60iXk94j7"
      },
      "outputs": [],
      "source": [
        "# 提供baseline的答案\n",
        "def baseline(data,tag):\n",
        "  base = pd.read_csv(\"/content/drive/Shareddrives/統學期末比賽/Data/base_answer_12months.csv\")\n",
        "  base = pd.melt(base, id_vars = 'chid')\n",
        "  base = base[base['value']==int(tag)]\n",
        "  base['base_ans'] = np.where(base['variable']==\"top1\", 3,0)\n",
        "  base['base_ans'] = np.where(base['variable']==\"top2\", 2,0)\n",
        "  base['base_ans'] = np.where(base['variable']==\"top3\", 1,0)\n",
        "  base = base.drop([\"variable\",\"value\"],axis = 1)\n",
        "  data = data.merge(base, how = \"left\", on = 'chid').fillna(0)\n",
        "  return data"
      ]
    },
    {
      "cell_type": "code",
      "execution_count": null,
      "metadata": {
        "id": "A-F4hwAGVxow"
      },
      "outputs": [],
      "source": [
        "# 增加 OtherLift\n",
        "def generate_lift(data, tag):\n",
        "  lift = pd.read_csv(\"/content/drive/Shareddrives/統學期末比賽/feature/other_lift.csv\")\n",
        "  lift = lift.reset_index()\n",
        "  lift = lift[[\"chid\",\"dt\",tag]]\n",
        "  lift.columns = [\"chid\", \"dt\", \"OtherLift\"]\n",
        "  data = data.merge(lift, how = \"left\", on = [\"chid\", \"dt\"]).fillna(0)\n",
        "  del lift\n",
        "  return data"
      ]
    },
    {
      "cell_type": "code",
      "execution_count": null,
      "metadata": {
        "id": "HeIM8E09_MSs"
      },
      "outputs": [],
      "source": [
        "# 製造資料\n",
        "def make_test(data):\n",
        "  cust = set(pd.read_csv(\"/content/drive/Shareddrives/統學期末比賽/Data/target.csv\")['chid'].to_list())\n",
        "  temp = data.loc[data.groupby('chid').dt.idxmax()].reset_index(drop=True)\n",
        "  cust = cust - set(temp.chid.to_list())\n",
        "  del temp\n",
        "  for i in range(24,11,-1):\n",
        "    if len(cust) == 0: break\n",
        "    df = pd.read_csv(\"/content/drive/Shareddrives/統學期末比賽/Clear_data_1214/data_\"+str(i)+\".csv\")\n",
        "    df = df[df['chid'].isin(cust)]\n",
        "    # 丟掉slam、gender_code、primary_card\n",
        "    df = df.drop(['Unnamed: 0','poscd','overseas_offline_cnt','overseas_offline_amt_pct','naty','cuorg','masts','slam', 'primary_card', 'cuorg'], axis=1)\n",
        "\n",
        "    # 合併txn_cnt, 只留1,2,4,6\n",
        "    others = [\"card_\"+str(x)+\"_txn_cnt\" for x in [3,5,6,7,8,9,10,11,12,13,14,\"other\"]]\n",
        "    df['card_others_txn_cnt'] = df[others].sum(axis=1)\n",
        "    df.drop(others, axis=1, inplace = True)\n",
        "\n",
        "    others = [\"card_\"+str(x)+\"_txn_amt_pct\" for x in range(1,15)]\n",
        "    # df['card_others_txn_amt_pct'] = df[others].sum(axis=1)\n",
        "    df.drop(others, axis=1, inplace = True)\n",
        "    df.drop(\"card_other_txn_amt_pct\", axis=1, inplace = True)\n",
        "\n",
        "    df[['txn_cnt', 'txn_amt', 'domestic_offline_cnt',\n",
        "        'domestic_online_cnt', 'overseas_online_cnt',\n",
        "        'domestic_offline_amt_pct', 'domestic_online_amt_pct',\n",
        "        'overseas_online_amt_pct', 'card_1_txn_cnt',\n",
        "        'card_2_txn_cnt', 'card_4_txn_cnt', 'card_others_txn_cnt']] = 0\n",
        "    # df[['txn_cnt', 'txn_amt']] = 0\n",
        "    df['shop_tag'] = tag\n",
        "\n",
        "    cust = cust - set(df.chid.to_list())\n",
        "    data = pd.concat([data, df], ignore_index = True)\n",
        "    del df\n",
        "  return data"
      ]
    },
    {
      "cell_type": "code",
      "execution_count": null,
      "metadata": {
        "id": "NPXVGFoF5yD2"
      },
      "outputs": [],
      "source": [
        "# 對txn_amt做log\n",
        "def log_txn_amt():\n",
        "  comb = []\n",
        "  target_col = [\"chid\",\"dt\",\"shop_tag\",\"txn_amt\"]\n",
        "  for i in range(12,25):\n",
        "    data = pd.read_csv(\"/content/drive/Shareddrives/統學期末比賽/Data/date_\"+str(i)+\".csv\")\n",
        "    data = data[target_col]\n",
        "    comb.append(data)\n",
        "  data = pd.concat(comb)\n",
        "  data[\"txn_amt\"] = np.log(data[\"txn_amt\"])\n",
        "  # data[\"txn_amt\"] = (data[\"txn_amt\"]-data[\"txn_amt\"].min())/(data[\"txn_amt\"].max()-data[\"txn_amt\"].min())\n",
        "  return data"
      ]
    },
    {
      "cell_type": "code",
      "execution_count": null,
      "metadata": {
        "colab": {
          "base_uri": "https://localhost:8080/"
        },
        "id": "m5omMNUMfFiF",
        "outputId": "e643860e-8cd1-4163-c902-155dea90a16a"
      },
      "outputs": [
        {
          "output_type": "stream",
          "name": "stdout",
          "text": [
            "generate sample...\n",
            "generate test...\n",
            "encoding...\n",
            "generate_count...\n",
            "generate_total...\n",
            "generate_target...\n",
            "generate_base...\n",
            "generate_lift...\n",
            "500000\n",
            "create new folder...\n",
            "saving csv...\n",
            "500000\n",
            "success~2\n",
            "generate sample...\n",
            "generate test...\n",
            "encoding...\n",
            "generate_count...\n",
            "generate_total...\n",
            "generate_target...\n",
            "generate_base...\n",
            "generate_lift...\n",
            "500000\n",
            "create new folder...\n",
            "saving csv...\n",
            "500000\n",
            "success~6\n",
            "generate sample...\n",
            "generate test...\n",
            "encoding...\n",
            "generate_count...\n",
            "generate_total...\n",
            "generate_target...\n",
            "generate_base...\n",
            "generate_lift...\n",
            "500000\n",
            "create new folder...\n",
            "saving csv...\n",
            "500000\n",
            "success~10\n",
            "generate sample...\n",
            "generate test...\n",
            "encoding...\n",
            "generate_count...\n",
            "generate_total...\n",
            "generate_target...\n",
            "generate_base...\n",
            "generate_lift...\n",
            "500000\n",
            "create new folder...\n",
            "saving csv...\n",
            "500000\n",
            "success~12\n",
            "generate sample...\n",
            "generate test...\n",
            "encoding...\n",
            "generate_count...\n",
            "generate_total...\n",
            "generate_target...\n",
            "generate_base...\n",
            "generate_lift...\n",
            "500000\n",
            "create new folder...\n",
            "saving csv...\n",
            "500000\n",
            "success~13\n",
            "generate sample...\n",
            "generate test...\n",
            "encoding...\n",
            "generate_count...\n",
            "generate_total...\n",
            "generate_target...\n",
            "generate_base...\n",
            "generate_lift...\n",
            "500000\n",
            "create new folder...\n",
            "saving csv...\n",
            "500000\n",
            "success~15\n",
            "generate sample...\n",
            "generate test...\n",
            "encoding...\n",
            "generate_count...\n",
            "generate_total...\n",
            "generate_target...\n",
            "generate_base...\n",
            "generate_lift...\n",
            "500000\n",
            "create new folder...\n",
            "saving csv...\n",
            "500000\n",
            "success~18\n",
            "generate sample...\n",
            "generate test...\n",
            "encoding...\n",
            "generate_count...\n",
            "generate_total...\n",
            "generate_target...\n",
            "generate_base...\n",
            "generate_lift...\n",
            "500000\n",
            "create new folder...\n",
            "saving csv...\n",
            "500000\n",
            "success~19\n",
            "generate sample...\n",
            "generate test...\n",
            "encoding...\n",
            "generate_count...\n",
            "generate_total...\n",
            "generate_target...\n",
            "generate_base...\n",
            "generate_lift...\n",
            "500000\n",
            "create new folder...\n",
            "saving csv...\n",
            "500000\n",
            "success~21\n",
            "generate sample...\n",
            "generate test...\n",
            "encoding...\n",
            "generate_count...\n",
            "generate_total...\n",
            "generate_target...\n",
            "generate_base...\n",
            "generate_lift...\n",
            "500000\n",
            "create new folder...\n",
            "saving csv...\n",
            "500000\n",
            "success~22\n",
            "generate sample...\n",
            "generate test...\n",
            "encoding...\n",
            "generate_count...\n",
            "generate_total...\n",
            "generate_target...\n",
            "generate_base...\n",
            "generate_lift...\n",
            "500000\n",
            "create new folder...\n",
            "saving csv...\n",
            "500000\n",
            "success~25\n",
            "generate sample...\n",
            "generate test...\n",
            "encoding...\n",
            "generate_count...\n",
            "generate_total...\n",
            "generate_target...\n",
            "generate_base...\n",
            "generate_lift...\n",
            "500000\n",
            "create new folder...\n",
            "saving csv...\n",
            "500000\n",
            "success~26\n",
            "generate sample...\n",
            "generate test...\n",
            "encoding...\n",
            "generate_count...\n",
            "generate_total...\n",
            "generate_target...\n",
            "generate_base...\n",
            "generate_lift...\n",
            "500000\n",
            "create new folder...\n",
            "saving csv...\n",
            "500000\n",
            "success~36\n",
            "generate sample...\n",
            "generate test...\n",
            "encoding...\n",
            "generate_count...\n",
            "generate_total...\n",
            "generate_target...\n",
            "generate_base...\n",
            "generate_lift...\n",
            "500000\n",
            "create new folder...\n",
            "saving csv...\n",
            "500000\n",
            "success~37\n",
            "generate sample...\n",
            "generate test...\n",
            "encoding...\n",
            "generate_count...\n",
            "generate_total...\n",
            "generate_target...\n",
            "generate_base...\n",
            "generate_lift...\n",
            "500000\n",
            "create new folder...\n",
            "saving csv...\n",
            "500000\n",
            "success~39\n",
            "generate sample...\n",
            "generate test...\n",
            "encoding...\n",
            "generate_count...\n",
            "generate_total...\n",
            "generate_target...\n",
            "generate_base...\n",
            "generate_lift...\n",
            "500000\n",
            "create new folder...\n",
            "saving csv...\n",
            "500000\n",
            "success~48\n"
          ]
        }
      ],
      "source": [
        "pred = map(str, [2,6,10,12,13,15,18,19,21,22,25,26,36,37,39,48])\n",
        "amt = log_txn_amt()\n",
        "for tag in pred:\n",
        "  print(\"generate sample...\")\n",
        "  data = generate_sample(tag, amt)\n",
        "  print(\"generate test...\")\n",
        "  data = make_test(data)\n",
        "  print(\"encoding...\")\n",
        "  data = encoding(data)\n",
        "  print(\"generate_count...\")\n",
        "  data = generate_count(data, tag)\n",
        "  print(\"generate_total...\")\n",
        "  data = generate_total(data, tag)\n",
        "  print(\"generate_target...\")\n",
        "  data = generate_target(data)\n",
        "  print(\"generate_base...\")\n",
        "  data = baseline(data,tag)\n",
        "  print(\"generate_lift...\")\n",
        "  data = generate_lift(data,tag)\n",
        "\n",
        "  # train test split\n",
        "  print(data.chid.nunique())\n",
        "  print(\"create new folder...\")\n",
        "  path = pathlib.Path(\"/content/drive/Shareddrives/統學期末比賽/train_test/\"+tag)\n",
        "  path.mkdir(parents=True, exist_ok=True)\n",
        "  print(\"saving csv...\")\n",
        "  df = data[data['dt']<24]\n",
        "  temp = data.loc[data.groupby('chid').dt.idxmax()].reset_index(drop=True)\n",
        "  print(temp.chid.nunique())\n",
        "  temp[['chid','shop_tag']].to_csv(\"/content/drive/Shareddrives/統學期末比賽/train_test/\"+tag+\"/test_tag_\"+tag+\"_rank.csv\", index = False)\n",
        "  data[data['dt']==23].drop(['chid',\"next_txn_amt\"],axis =1).to_csv(\"/content/drive/Shareddrives/統學期末比賽/train_test/\"+tag+\"/valx_\"+tag+\"_rank.csv\", index = False)\n",
        "  data[data['dt']==23]['next_txn_amt'].to_csv(\"/content/drive/Shareddrives/統學期末比賽/train_test/\"+tag+\"/valy_\"+tag+\"_rank.csv\", index = False)\n",
        "  df.drop([\"next_txn_amt\"], axis = 1).to_csv(\"/content/drive/Shareddrives/統學期末比賽/train_test/\"+tag+\"/trainx_\"+tag+\"_rank.csv\", index = False)\n",
        "  df['next_txn_amt'].to_csv(\"/content/drive/Shareddrives/統學期末比賽/train_test/\"+tag+\"/trainy_\"+tag+\"_rank.csv\", index = False)\n",
        "  temp.drop(['chid',\"next_txn_amt\"],axis =1).to_csv(\"/content/drive/Shareddrives/統學期末比賽/train_test/\"+tag+\"/testx_\"+tag+\"_rank.csv\", index = False)\n",
        "  del df\n",
        "  del temp\n",
        "  print(\"success~\"+tag)"
      ]
    },
    {
      "cell_type": "markdown",
      "source": [
        "Boxcox transformation"
      ],
      "metadata": {
        "id": "mFNGWpWNn7NR"
      }
    },
    {
      "cell_type": "code",
      "execution_count": null,
      "metadata": {
        "id": "ipTdpypEW9f4"
      },
      "outputs": [],
      "source": [
        "from scipy.stats import boxcox"
      ]
    },
    {
      "cell_type": "code",
      "execution_count": null,
      "metadata": {
        "id": "Mro2u4jLW8fA"
      },
      "outputs": [],
      "source": [
        "comb = []\n",
        "target_col = [\"txn_amt\"]\n",
        "for i in range(1,25):\n",
        "  data = pd.read_csv(\"/content/drive/Shareddrives/統學期末比賽/Data/date_\"+str(i)+\".csv\")\n",
        "  data = data[target_col]\n",
        "  comb.append(data)\n",
        "data = pd.concat(comb)\n"
      ]
    },
    {
      "cell_type": "code",
      "execution_count": null,
      "metadata": {
        "colab": {
          "base_uri": "https://localhost:8080/"
        },
        "id": "jJMpx7CpYa3G",
        "outputId": "628d60c2-ff8a-4bb0-bb60-217d1f15d628"
      },
      "outputs": [
        {
          "name": "stderr",
          "output_type": "stream",
          "text": [
            "/usr/local/lib/python3.7/dist-packages/numpy/core/_methods.py:205: RuntimeWarning: overflow encountered in multiply\n",
            "  x = um.multiply(x, x, out=x)\n"
          ]
        }
      ],
      "source": [
        "_, lam = boxcox(data.T.to_numpy()[0])"
      ]
    },
    {
      "cell_type": "code",
      "execution_count": null,
      "metadata": {
        "colab": {
          "base_uri": "https://localhost:8080/"
        },
        "id": "XFyDytu9ZSz9",
        "outputId": "7c9d4b39-b0e5-4f1b-b8af-e5c463609da4"
      },
      "outputs": [
        {
          "data": {
            "text/plain": [
              "-0.013085205871723776"
            ]
          },
          "execution_count": 13,
          "metadata": {},
          "output_type": "execute_result"
        }
      ],
      "source": [
        "lam"
      ]
    }
  ],
  "metadata": {
    "colab": {
      "collapsed_sections": [],
      "provenance": [],
      "include_colab_link": true
    },
    "kernelspec": {
      "display_name": "Python 3",
      "name": "python3"
    },
    "language_info": {
      "name": "python"
    }
  },
  "nbformat": 4,
  "nbformat_minor": 0
}